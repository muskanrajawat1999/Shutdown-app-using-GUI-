{
 "cells": [
  {
   "cell_type": "code",
   "execution_count": 1,
   "id": "afefcee0",
   "metadata": {},
   "outputs": [],
   "source": [
    "from tkinter import*\n",
    "import os"
   ]
  },
  {
   "cell_type": "code",
   "execution_count": 2,
   "id": "52da6af5",
   "metadata": {},
   "outputs": [],
   "source": [
    "def restart():\n",
    "    os.system(\"shutdown /r /t 1\")\n",
    "def restart_time():\n",
    "    os.system(\"shutdown /r /t 20\")\n",
    "def log_out():\n",
    "    os.system(\"shutdown -1\")\n",
    "def shutdown():\n",
    "    os.system(\"shutdown /s /t 1\")\n",
    "st=Tk()\n",
    "st.title(\"Shut Down App\")\n",
    "st.geometry(\"1280x720\")\n",
    "st.config(bg=\"white\")\n",
    "r_button=Button(st,text=\"Restart\",font=(\"Time New Roman\",30,\"bold\"),relief=RAISED,cursor=\"mouse\",bg=\"black\",fg=\"cyan\")\n",
    "r_button.place(x=500,y=100,height=50,width=250)\n",
    "r_button=Button(st,text=\"Restart Time\",font=(\"Time New Roman\",30,\"bold\"),relief=RAISED,cursor=\"fleur\",bg=\"black\",fg=\"cyan\",command=restart)\n",
    "r_button.place(x=500,y=250,height=50,width=250)\n",
    "r_button=Button(st,text=\"Log Out\",font=(\"Time New Roman\",30,\"bold\"),relief=RAISED,cursor=\"dotbox\",bg=\"black\",fg=\"cyan\")\n",
    "r_button.place(x=500,y=400,height=50,width=250)\n",
    "r_button=Button(st,text=\"Shut Down\",font=(\"Time New Roman\",30,\"bold\"),relief=RAISED,cursor=\"heart\",bg=\"black\",fg=\"cyan\")\n",
    "r_button.place(x=500,y=550,height=50,width=250)\n",
    "\n",
    "\n",
    "\n",
    "\n",
    "\n",
    "st.mainloop()"
   ]
  },
  {
   "cell_type": "code",
   "execution_count": null,
   "id": "2c7fcfec",
   "metadata": {},
   "outputs": [],
   "source": []
  }
 ],
 "metadata": {
  "kernelspec": {
   "display_name": "Python 3 (ipykernel)",
   "language": "python",
   "name": "python3"
  },
  "language_info": {
   "codemirror_mode": {
    "name": "ipython",
    "version": 3
   },
   "file_extension": ".py",
   "mimetype": "text/x-python",
   "name": "python",
   "nbconvert_exporter": "python",
   "pygments_lexer": "ipython3",
   "version": "3.11.4"
  }
 },
 "nbformat": 4,
 "nbformat_minor": 5
}
